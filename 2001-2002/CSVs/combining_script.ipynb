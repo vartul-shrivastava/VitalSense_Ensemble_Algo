{
 "cells": [
  {
   "cell_type": "code",
   "execution_count": 1,
   "metadata": {},
   "outputs": [
    {
     "name": "stdout",
     "output_type": "stream",
     "text": [
      "          SEQN  BMXWT  BMIWT  BMXRECUM  BMIRECUM  BMXHEAD  BMIHEAD  BMXHT  \\\n",
      "0       9966.0   91.7    NaN       NaN       NaN      NaN      NaN  174.2   \n",
      "1       9967.0   84.0    NaN       NaN       NaN      NaN      NaN  167.4   \n",
      "2       9968.0   51.7    NaN       NaN       NaN      NaN      NaN  144.9   \n",
      "3       9969.0   58.0    NaN       NaN       NaN      NaN      NaN  161.4   \n",
      "4       9970.0  139.1    NaN       NaN       NaN      NaN      NaN  188.3   \n",
      "...        ...    ...    ...       ...       ...      ...      ...    ...   \n",
      "10968  20901.0    NaN    NaN       NaN       NaN      NaN      NaN    NaN   \n",
      "10969  20927.0    NaN    NaN       NaN       NaN      NaN      NaN    NaN   \n",
      "10970  20936.0    NaN    NaN       NaN       NaN      NaN      NaN    NaN   \n",
      "10971  20940.0    NaN    NaN       NaN       NaN      NaN      NaN    NaN   \n",
      "10972  20957.0    NaN    NaN       NaN       NaN      NaN      NaN    NaN   \n",
      "\n",
      "       BMIHT  BMXBMI  ...  PAD440  PAD460        PAD480  PAQ500  PAQ520  \\\n",
      "0        NaN   30.22  ...     1.0     9.0  2.000000e+00     1.0     1.0   \n",
      "1        NaN   29.98  ...     1.0    17.0  5.397605e-79     3.0     1.0   \n",
      "2        NaN   24.62  ...     2.0     NaN  2.000000e+00     2.0     1.0   \n",
      "3        NaN   22.26  ...     1.0     4.0  2.000000e+00     3.0     1.0   \n",
      "4        NaN   39.23  ...     1.0    30.0  3.000000e+00     1.0     2.0   \n",
      "...      ...     ...  ...     ...     ...           ...     ...     ...   \n",
      "10968    NaN     NaN  ...     2.0     NaN  5.397605e-79     3.0     1.0   \n",
      "10969    NaN     NaN  ...     1.0    60.0  5.000000e+00     2.0     2.0   \n",
      "10970    NaN     NaN  ...     1.0    17.0  1.000000e+00     1.0     3.0   \n",
      "10971    NaN     NaN  ...     1.0    30.0  5.397605e-79     3.0     3.0   \n",
      "10972    NaN     NaN  ...     NaN     NaN           NaN     NaN     NaN   \n",
      "\n",
      "       PAQ540  PAQ560  PAD590        PAD600  PAAQUEX  \n",
      "0         3.0     NaN     NaN           NaN      1.0  \n",
      "1         NaN     NaN     NaN           NaN      1.0  \n",
      "2         2.0     NaN     NaN           NaN      1.0  \n",
      "3         3.0     NaN     NaN           NaN      1.0  \n",
      "4         NaN     NaN     NaN           NaN      1.0  \n",
      "...       ...     ...     ...           ...      ...  \n",
      "10968     3.0     NaN     NaN           NaN      1.0  \n",
      "10969     2.0     NaN     NaN           NaN      1.0  \n",
      "10970     NaN     NaN     NaN           NaN      1.0  \n",
      "10971     3.0     NaN     NaN           NaN      1.0  \n",
      "10972     NaN     7.0     2.0  5.397605e-79      1.0  \n",
      "\n",
      "[10973 rows x 73 columns]\n"
     ]
    }
   ],
   "source": [
    "import pandas as pd\n",
    "import os\n",
    "\n",
    "def get_csv_filenames():\n",
    "    csv_filenames = [filename for filename in os.listdir() if filename.endswith('.csv')]\n",
    "    return csv_filenames\n",
    "\n",
    "# Example usage\n",
    "csv_filenames = get_csv_filenames()\n",
    "dataset_names = csv_filenames\n",
    "\n",
    "# Read the first dataset into a pandas DataFrame\n",
    "combined_data = pd.read_csv(dataset_names[0])\n",
    "\n",
    "# Iterate over the remaining datasets and merge them based on 'SEQN'\n",
    "for dataset_name in dataset_names[1:]:\n",
    "    dataset = pd.read_csv(dataset_name)\n",
    "    combined_data = combined_data.merge(dataset, on='SEQN', how='outer')\n",
    "    \n",
    "# Print the combined data\n",
    "print(combined_data)\n",
    "merged_dataset = combined_data"
   ]
  },
  {
   "cell_type": "code",
   "execution_count": 2,
   "metadata": {},
   "outputs": [],
   "source": [
    "merged_dataset.to_csv(r'OG_2001_2002.csv')"
   ]
  },
  {
   "cell_type": "code",
   "execution_count": null,
   "metadata": {},
   "outputs": [],
   "source": []
  }
 ],
 "metadata": {
  "kernelspec": {
   "display_name": "base",
   "language": "python",
   "name": "python3"
  },
  "language_info": {
   "codemirror_mode": {
    "name": "ipython",
    "version": 3
   },
   "file_extension": ".py",
   "mimetype": "text/x-python",
   "name": "python",
   "nbconvert_exporter": "python",
   "pygments_lexer": "ipython3",
   "version": "3.10.8"
  },
  "orig_nbformat": 4
 },
 "nbformat": 4,
 "nbformat_minor": 2
}
