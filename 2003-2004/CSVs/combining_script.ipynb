{
 "cells": [
  {
   "cell_type": "code",
   "execution_count": 1,
   "metadata": {},
   "outputs": [
    {
     "name": "stdout",
     "output_type": "stream",
     "text": [
      "          SEQN  BMDSTATS  BMDRECUF  BMDSUBF  BMDTHICF  BMDLEGF  BMDARMLF  \\\n",
      "0      21005.0       3.0       NaN      NaN       NaN      NaN       NaN   \n",
      "1      21006.0       1.0       NaN      NaN       NaN      NaN       NaN   \n",
      "2      21007.0       1.0       NaN      NaN       NaN      NaN       NaN   \n",
      "3      21008.0       1.0       NaN      NaN       NaN      NaN       NaN   \n",
      "4      21009.0       1.0       NaN      NaN       NaN      NaN       NaN   \n",
      "...        ...       ...       ...      ...       ...      ...       ...   \n",
      "10069  31055.0       NaN       NaN      NaN       NaN      NaN       NaN   \n",
      "10070  31084.0       NaN       NaN      NaN       NaN      NaN       NaN   \n",
      "10071  31094.0       NaN       NaN      NaN       NaN      NaN       NaN   \n",
      "10072  31097.0       NaN       NaN      NaN       NaN      NaN       NaN   \n",
      "10073  31100.0       NaN       NaN      NaN       NaN      NaN       NaN   \n",
      "\n",
      "       BMDCALFF  BMXWT  BMIWT  ...  PAD320  PAD440  PAD460  PAQ500  PAQ520  \\\n",
      "0           NaN  137.6    NaN  ...     2.0     2.0     NaN     3.0     2.0   \n",
      "1           NaN   55.2    NaN  ...     2.0     2.0     NaN     1.0     1.0   \n",
      "2           NaN   47.9    NaN  ...     2.0     2.0     NaN     3.0     1.0   \n",
      "3           NaN   70.0    NaN  ...     1.0     1.0    13.0     2.0     3.0   \n",
      "4           NaN  103.1    NaN  ...     1.0     1.0     4.0     2.0     3.0   \n",
      "...         ...    ...    ...  ...     ...     ...     ...     ...     ...   \n",
      "10069       NaN    NaN    NaN  ...     NaN     NaN     NaN     NaN     NaN   \n",
      "10070       NaN    NaN    NaN  ...     1.0     1.0    17.0     3.0     1.0   \n",
      "10071       NaN    NaN    NaN  ...     NaN     NaN     NaN     NaN     NaN   \n",
      "10072       NaN    NaN    NaN  ...     1.0     1.0    13.0     3.0     1.0   \n",
      "10073       NaN    NaN    NaN  ...     3.0     1.0     3.0     2.0     2.0   \n",
      "\n",
      "       PAQ540  PAQ560  PAD590        PAD600  PAAQUEX  \n",
      "0         NaN     NaN     3.0  2.000000e+00      1.0  \n",
      "1         NaN     NaN     4.0  5.397605e-79      1.0  \n",
      "2         NaN     NaN     3.0  1.000000e+00      2.0  \n",
      "3         NaN     NaN     3.0  6.000000e+00      1.0  \n",
      "4         3.0     NaN     1.0  2.000000e+00      1.0  \n",
      "...       ...     ...     ...           ...      ...  \n",
      "10069     NaN     7.0     1.0  6.000000e+00      1.0  \n",
      "10070     3.0     NaN     5.0  5.397605e-79      1.0  \n",
      "10071     NaN     4.0     2.0  6.000000e+00      1.0  \n",
      "10072     3.0     NaN     2.0  2.000000e+00      1.0  \n",
      "10073     2.0     NaN     5.0  6.000000e+00      1.0  \n",
      "\n",
      "[10074 rows x 68 columns]\n"
     ]
    }
   ],
   "source": [
    "import pandas as pd\n",
    "import os\n",
    "\n",
    "def get_csv_filenames():\n",
    "    csv_filenames = [filename for filename in os.listdir() if filename.endswith('.csv')]\n",
    "    return csv_filenames\n",
    "\n",
    "# Example usage\n",
    "csv_filenames = get_csv_filenames()\n",
    "dataset_names = csv_filenames\n",
    "\n",
    "# Read the first dataset into a pandas DataFrame\n",
    "combined_data = pd.read_csv(dataset_names[0])\n",
    "\n",
    "# Iterate over the remaining datasets and merge them based on 'SEQN'\n",
    "for dataset_name in dataset_names[1:]:\n",
    "    dataset = pd.read_csv(dataset_name)\n",
    "    combined_data = combined_data.merge(dataset, on='SEQN', how='outer')\n",
    "    \n",
    "# Print the combined data\n",
    "print(combined_data)\n",
    "merged_dataset = combined_data"
   ]
  },
  {
   "cell_type": "code",
   "execution_count": 3,
   "metadata": {},
   "outputs": [],
   "source": [
    "merged_dataset.to_csv(r'OG_2003_2004.csv')"
   ]
  }
 ],
 "metadata": {
  "kernelspec": {
   "display_name": "base",
   "language": "python",
   "name": "python3"
  },
  "language_info": {
   "codemirror_mode": {
    "name": "ipython",
    "version": 3
   },
   "file_extension": ".py",
   "mimetype": "text/x-python",
   "name": "python",
   "nbconvert_exporter": "python",
   "pygments_lexer": "ipython3",
   "version": "3.10.8"
  },
  "orig_nbformat": 4
 },
 "nbformat": 4,
 "nbformat_minor": 2
}
