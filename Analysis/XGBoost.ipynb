{
 "cells": [
  {
   "cell_type": "code",
   "execution_count": 13,
   "metadata": {},
   "outputs": [],
   "source": [
    "target_cols = ['Glycohemoglobin',\n",
    "       'Fasting glucose (mg/dL)', 'Fasting glucose (mmol/L)',\n",
    "       'Insulin (pmol/L)', 'HDL cholesterol (mg/dL)',\n",
    "       'HDL cholesterol (mmol/L)',\n",
    "       'Total cholesterol (mmol/L)', 'Triglycerides (mmol/L)',\n",
    "       'LDL cholesterol (mg/dL)', 'Trunk Fat (%)','Total Fat (%)']\n",
    "\n",
    "# Step 2: Select the relevant columns for input features and target variables\n",
    "input_cols = ['Weight (kg)', \n",
    "              'Height (cm)',\n",
    "       'Leg Length (cm)', \n",
    "       'Arm Length (cm)', \n",
    "       'Arm Circumference (cm)',\n",
    "       'Waist Circumference (cm)', \n",
    "       'Gender', 'Age (years)',\n",
    "       'Vigorous work activity (Y/N)',\n",
    "         'Minutes vigorous-intensity work',\n",
    "       'Minutes moderate-intensity work',\n",
    "       'Minutes walk/bicycle for transportation',\n",
    "       'Minutes vigorous recreational activities',\n",
    "       'Minutes sedentary activity', \n",
    "       'Hours watch TV or videos past 30 days',\n",
    "       'Hours use computer past 30 days']"
   ]
  },
  {
   "cell_type": "code",
   "execution_count": 14,
   "metadata": {},
   "outputs": [],
   "source": [
    "import numpy as np\n",
    "import warnings\n",
    "warnings.filterwarnings('ignore')\n",
    "import pickle\n",
    "from xgboost import XGBRegressor\n",
    "from sklearn.model_selection import train_test_split\n",
    "from sklearn.preprocessing import StandardScaler\n",
    "from sklearn.metrics import r2_score, mean_squared_error, mean_absolute_error, explained_variance_score\n",
    "import optuna\n",
    "import pandas as pd\n",
    "\n",
    "# Step 1: Load your dataset into a Pandas DataFrame\n",
    "data = pd.read_csv('populated.csv')\n",
    "\n",
    "# Step 3: Split the data into training and testing sets\n",
    "X_train, X_test, y_train, y_test = train_test_split(data[input_cols], data[target_cols], test_size=0.2, random_state=0)\n",
    "\n",
    "# Step 4: Check and preprocess the target variable to handle invalid values\n",
    "for col in target_cols:\n",
    "    # Check for NaN or infinity values\n",
    "    nan_indices = np.isnan(y_train[col])\n",
    "    inf_indices = np.isinf(y_train[col])\n",
    "    valid_indices = ~(nan_indices | inf_indices)\n",
    "\n",
    "    # Remove invalid values\n",
    "    X_train = X_train[valid_indices]\n",
    "    y_train = y_train[valid_indices]\n",
    "    \n",
    "# Step 4: Scale the input features\n",
    "scaler = StandardScaler()\n",
    "scaler.fit(X_train[input_cols])\n",
    "X_train_scaled = scaler.transform(X_train)\n",
    "X_test_scaled = scaler.transform(X_test)\n",
    "\n",
    "with open('scaler.pkl', 'wb') as file:\n",
    "    pickle.dump(scaler, file)"
   ]
  },
  {
   "cell_type": "code",
   "execution_count": 15,
   "metadata": {},
   "outputs": [
    {
     "name": "stderr",
     "output_type": "stream",
     "text": [
      "[I 2023-06-30 08:27:20,394] A new study created in memory with name: no-name-2e6f3010-c832-46f8-8a32-9a7c7fcdeaf8\n",
      "[I 2023-06-30 08:27:24,467] Trial 0 finished with value: 0.39512041129082653 and parameters: {'n_estimators': 168, 'learning_rate': 0.024415468685401863, 'max_depth': 10}. Best is trial 0 with value: 0.39512041129082653.\n",
      "[I 2023-06-30 08:27:25,249] Trial 1 finished with value: 0.6714068444893633 and parameters: {'n_estimators': 51, 'learning_rate': 0.06015251528558077, 'max_depth': 7}. Best is trial 0 with value: 0.39512041129082653.\n",
      "[I 2023-06-30 08:27:27,697] Trial 2 finished with value: 0.6881711408310122 and parameters: {'n_estimators': 149, 'learning_rate': 0.03704314732601082, 'max_depth': 5}. Best is trial 0 with value: 0.39512041129082653.\n",
      "[I 2023-06-30 08:27:31,998] Trial 3 finished with value: 1.0000078103784409 and parameters: {'n_estimators': 172, 'learning_rate': 0.01167987192943215, 'max_depth': 7}. Best is trial 0 with value: 0.39512041129082653.\n",
      "[I 2023-06-30 08:27:35,402] Trial 4 finished with value: 0.6852617359489136 and parameters: {'n_estimators': 130, 'learning_rate': 0.023182688985183317, 'max_depth': 7}. Best is trial 0 with value: 0.39512041129082653.\n",
      "[I 2023-06-30 08:27:40,679] Trial 5 finished with value: 0.3738854511667039 and parameters: {'n_estimators': 143, 'learning_rate': 0.08341814095059322, 'max_depth': 8}. Best is trial 5 with value: 0.3738854511667039.\n",
      "[I 2023-06-30 08:27:46,249] A new study created in memory with name: no-name-91229fa1-9e86-45c6-86f9-c9d3d7cb30c0\n"
     ]
    },
    {
     "name": "stdout",
     "output_type": "stream",
     "text": [
      "Column: Glycohemoglobin\n",
      "RMSE: 0.3738854511667039\n",
      "MAE: 0.2406635546418074\n",
      "R2: 0.860721620512657\n",
      "Explained Variance: 0.8608852129533108\n",
      "\n"
     ]
    },
    {
     "name": "stderr",
     "output_type": "stream",
     "text": [
      "[I 2023-06-30 08:27:55,033] Trial 0 finished with value: 6.862940052223307 and parameters: {'n_estimators': 195, 'learning_rate': 0.30621471958819, 'max_depth': 10}. Best is trial 0 with value: 6.862940052223307.\n",
      "[I 2023-06-30 08:27:57,389] Trial 1 finished with value: 8.610272852719657 and parameters: {'n_estimators': 84, 'learning_rate': 0.3635401931868705, 'max_depth': 7}. Best is trial 0 with value: 6.862940052223307.\n",
      "[I 2023-06-30 08:27:59,232] Trial 2 finished with value: 19.6872906747668 and parameters: {'n_estimators': 162, 'learning_rate': 0.2818492911994847, 'max_depth': 3}. Best is trial 0 with value: 6.862940052223307.\n",
      "[I 2023-06-30 08:28:01,253] Trial 3 finished with value: 24.185933490396568 and parameters: {'n_estimators': 71, 'learning_rate': 0.03005702540412554, 'max_depth': 7}. Best is trial 0 with value: 6.862940052223307.\n",
      "[I 2023-06-30 08:28:05,879] Trial 4 finished with value: 16.57228027798559 and parameters: {'n_estimators': 184, 'learning_rate': 0.03706927494031617, 'max_depth': 6}. Best is trial 0 with value: 6.862940052223307.\n",
      "[I 2023-06-30 08:28:12,275] Trial 5 finished with value: 7.662721885457711 and parameters: {'n_estimators': 199, 'learning_rate': 0.09067106934055923, 'max_depth': 8}. Best is trial 0 with value: 6.862940052223307.\n",
      "[I 2023-06-30 08:28:20,246] A new study created in memory with name: no-name-8354f338-1e96-4d9c-b97d-088c41dc0b7a\n"
     ]
    },
    {
     "name": "stdout",
     "output_type": "stream",
     "text": [
      "Column: Fasting glucose (mg/dL)\n",
      "RMSE: 6.862940052223307\n",
      "MAE: 2.9855078449294323\n",
      "R2: 0.9530391883587291\n",
      "Explained Variance: 0.9530937908788663\n",
      "\n"
     ]
    },
    {
     "name": "stderr",
     "output_type": "stream",
     "text": [
      "[I 2023-06-30 08:28:23,400] Trial 0 finished with value: 1.3258639499709315 and parameters: {'n_estimators': 101, 'learning_rate': 0.019119686009535602, 'max_depth': 8}. Best is trial 0 with value: 1.3258639499709315.\n",
      "[I 2023-06-30 08:28:26,377] Trial 1 finished with value: 0.6664707422563959 and parameters: {'n_estimators': 128, 'learning_rate': 0.16596299457923222, 'max_depth': 6}. Best is trial 1 with value: 0.6664707422563959.\n",
      "[I 2023-06-30 08:28:28,329] Trial 2 finished with value: 0.9837642156025314 and parameters: {'n_estimators': 171, 'learning_rate': 0.4744181396352374, 'max_depth': 3}. Best is trial 1 with value: 0.6664707422563959.\n",
      "[I 2023-06-30 08:28:29,851] Trial 3 finished with value: 1.0945935129251765 and parameters: {'n_estimators': 130, 'learning_rate': 0.40100327913792355, 'max_depth': 3}. Best is trial 1 with value: 0.6664707422563959.\n",
      "[I 2023-06-30 08:28:30,997] Trial 4 finished with value: 1.6656928655893104 and parameters: {'n_estimators': 71, 'learning_rate': 0.027566865807663068, 'max_depth': 4}. Best is trial 1 with value: 0.6664707422563959.\n",
      "[I 2023-06-30 08:28:33,179] Trial 5 finished with value: 1.027008007191823 and parameters: {'n_estimators': 140, 'learning_rate': 0.14202723219496943, 'max_depth': 4}. Best is trial 1 with value: 0.6664707422563959.\n",
      "[I 2023-06-30 08:28:35,324] Trial 6 finished with value: 1.6183697232665784 and parameters: {'n_estimators': 69, 'learning_rate': 0.022347248963376698, 'max_depth': 8}. Best is trial 1 with value: 0.6664707422563959.\n",
      "[I 2023-06-30 08:28:41,605] Trial 7 finished with value: 0.4213822699789756 and parameters: {'n_estimators': 185, 'learning_rate': 0.1333966422938318, 'max_depth': 8}. Best is trial 7 with value: 0.4213822699789756.\n",
      "[I 2023-06-30 08:28:47,783] A new study created in memory with name: no-name-93b698b9-016c-453d-b0bf-24befaea1618\n"
     ]
    },
    {
     "name": "stdout",
     "output_type": "stream",
     "text": [
      "Column: Fasting glucose (mmol/L)\n",
      "RMSE: 0.4213822699789756\n",
      "MAE: 0.23583638976324822\n",
      "R2: 0.9427209200384645\n",
      "Explained Variance: 0.9427356337066961\n",
      "\n"
     ]
    },
    {
     "name": "stderr",
     "output_type": "stream",
     "text": [
      "[I 2023-06-30 08:28:49,988] Trial 0 finished with value: 5.94485502711475 and parameters: {'n_estimators': 69, 'learning_rate': 0.037806256815614274, 'max_depth': 8}. Best is trial 0 with value: 5.94485502711475.\n",
      "[I 2023-06-30 08:28:52,229] Trial 1 finished with value: 9.672153651727907 and parameters: {'n_estimators': 191, 'learning_rate': 0.018140767690956967, 'max_depth': 3}. Best is trial 0 with value: 5.94485502711475.\n",
      "[I 2023-06-30 08:28:57,090] Trial 2 finished with value: 2.5923422851422635 and parameters: {'n_estimators': 106, 'learning_rate': 0.07783729027400665, 'max_depth': 10}. Best is trial 2 with value: 2.5923422851422635.\n",
      "[I 2023-06-30 08:29:01,844] Trial 3 finished with value: 3.3805672032869887 and parameters: {'n_estimators': 191, 'learning_rate': 0.3634260306424065, 'max_depth': 6}. Best is trial 2 with value: 2.5923422851422635.\n",
      "[I 2023-06-30 08:29:07,063] Trial 4 finished with value: 4.8827661677577225 and parameters: {'n_estimators': 173, 'learning_rate': 0.03350552608819321, 'max_depth': 7}. Best is trial 2 with value: 2.5923422851422635.\n",
      "[I 2023-06-30 08:29:09,403] Trial 5 finished with value: 8.598385661741258 and parameters: {'n_estimators': 82, 'learning_rate': 0.016978252775912358, 'max_depth': 7}. Best is trial 2 with value: 2.5923422851422635.\n",
      "[I 2023-06-30 08:29:13,929] A new study created in memory with name: no-name-034b3596-b680-4460-b70e-ed17f87b79a2\n"
     ]
    },
    {
     "name": "stdout",
     "output_type": "stream",
     "text": [
      "Column: Insulin (pmol/L)\n",
      "RMSE: 2.5923422851422635\n",
      "MAE: 1.383434239984421\n",
      "R2: 0.9538389871909835\n",
      "Explained Variance: 0.9538415227367193\n",
      "\n"
     ]
    },
    {
     "name": "stderr",
     "output_type": "stream",
     "text": [
      "[I 2023-06-30 08:29:15,924] Trial 0 finished with value: 11.140447746010377 and parameters: {'n_estimators': 112, 'learning_rate': 0.03860768390945853, 'max_depth': 5}. Best is trial 0 with value: 11.140447746010377.\n",
      "[I 2023-06-30 08:29:20,232] Trial 1 finished with value: 3.2945536420108397 and parameters: {'n_estimators': 109, 'learning_rate': 0.4273398547912394, 'max_depth': 10}. Best is trial 1 with value: 3.2945536420108397.\n",
      "[I 2023-06-30 08:29:23,729] Trial 2 finished with value: 3.111932436914887 and parameters: {'n_estimators': 82, 'learning_rate': 0.20314555362227255, 'max_depth': 10}. Best is trial 2 with value: 3.111932436914887.\n",
      "[I 2023-06-30 08:29:25,704] Trial 3 finished with value: 13.097232738268895 and parameters: {'n_estimators': 175, 'learning_rate': 0.017551516078044203, 'max_depth': 3}. Best is trial 2 with value: 3.111932436914887.\n",
      "[I 2023-06-30 08:29:30,002] Trial 4 finished with value: 9.493455782129757 and parameters: {'n_estimators': 182, 'learning_rate': 0.03189420432772448, 'max_depth': 6}. Best is trial 2 with value: 3.111932436914887.\n",
      "[I 2023-06-30 08:29:32,340] Trial 5 finished with value: 10.113666645051811 and parameters: {'n_estimators': 88, 'learning_rate': 0.04825460324496559, 'max_depth': 6}. Best is trial 2 with value: 3.111932436914887.\n",
      "[I 2023-06-30 08:29:35,151] Trial 6 finished with value: 15.49591104200935 and parameters: {'n_estimators': 112, 'learning_rate': 0.01488260306232812, 'max_depth': 6}. Best is trial 2 with value: 3.111932436914887.\n",
      "[I 2023-06-30 08:29:38,909] A new study created in memory with name: no-name-7dcd3ca6-c0a5-40c6-b158-f6925b2e74d2\n"
     ]
    },
    {
     "name": "stdout",
     "output_type": "stream",
     "text": [
      "Column: HDL cholesterol (mg/dL)\n",
      "RMSE: 3.111932436914887\n",
      "MAE: 2.0446950504662436\n",
      "R2: 0.9587050703164286\n",
      "Explained Variance: 0.9587464237153017\n",
      "\n"
     ]
    },
    {
     "name": "stderr",
     "output_type": "stream",
     "text": [
      "[I 2023-06-30 08:29:45,029] Trial 0 finished with value: 0.12098917123348289 and parameters: {'n_estimators': 141, 'learning_rate': 0.04441059104869336, 'max_depth': 10}. Best is trial 0 with value: 0.12098917123348289.\n",
      "[I 2023-06-30 08:29:47,174] Trial 1 finished with value: 0.3212491200632996 and parameters: {'n_estimators': 195, 'learning_rate': 0.03555160500718109, 'max_depth': 3}. Best is trial 0 with value: 0.12098917123348289.\n",
      "[I 2023-06-30 08:29:50,178] Trial 2 finished with value: 0.13632979361749123 and parameters: {'n_estimators': 117, 'learning_rate': 0.3376839075585318, 'max_depth': 7}. Best is trial 0 with value: 0.12098917123348289.\n",
      "[I 2023-06-30 08:29:51,409] Trial 3 finished with value: 0.29264743793468806 and parameters: {'n_estimators': 117, 'learning_rate': 0.20685590745116722, 'max_depth': 3}. Best is trial 0 with value: 0.12098917123348289.\n",
      "[I 2023-06-30 08:29:52,872] Trial 4 finished with value: 0.31090015455713843 and parameters: {'n_estimators': 138, 'learning_rate': 0.07997102967137695, 'max_depth': 3}. Best is trial 0 with value: 0.12098917123348289.\n",
      "[I 2023-06-30 08:29:56,119] Trial 5 finished with value: 0.13248922652000386 and parameters: {'n_estimators': 125, 'learning_rate': 0.37680851664745674, 'max_depth': 7}. Best is trial 0 with value: 0.12098917123348289.\n",
      "[I 2023-06-30 08:30:00,878] Trial 6 finished with value: 0.13505488154889264 and parameters: {'n_estimators': 184, 'learning_rate': 0.18293703018776167, 'max_depth': 7}. Best is trial 0 with value: 0.12098917123348289.\n",
      "[I 2023-06-30 08:30:06,306] A new study created in memory with name: no-name-b37d3bf7-4144-4e08-a926-5ffd0492972c\n"
     ]
    },
    {
     "name": "stdout",
     "output_type": "stream",
     "text": [
      "Column: HDL cholesterol (mmol/L)\n",
      "RMSE: 0.12098917123348289\n",
      "MAE: 0.09178642906961218\n",
      "R2: 0.90822192459123\n",
      "Explained Variance: 0.9083608532153888\n",
      "\n"
     ]
    },
    {
     "name": "stderr",
     "output_type": "stream",
     "text": [
      "[I 2023-06-30 08:30:09,602] Trial 0 finished with value: 0.8374281940905909 and parameters: {'n_estimators': 159, 'learning_rate': 0.019959487101414278, 'max_depth': 6}. Best is trial 0 with value: 0.8374281940905909.\n",
      "[I 2023-06-30 08:30:17,317] Trial 1 finished with value: 0.7042650357819826 and parameters: {'n_estimators': 184, 'learning_rate': 0.013127916329328882, 'max_depth': 10}. Best is trial 1 with value: 0.7042650357819826.\n",
      "[I 2023-06-30 08:30:22,285] Trial 2 finished with value: 0.7217280945777067 and parameters: {'n_estimators': 195, 'learning_rate': 0.02249227564567069, 'max_depth': 7}. Best is trial 1 with value: 0.7042650357819826.\n",
      "[I 2023-06-30 08:30:23,605] Trial 3 finished with value: 0.8594420416336225 and parameters: {'n_estimators': 122, 'learning_rate': 0.13427136845096538, 'max_depth': 3}. Best is trial 1 with value: 0.7042650357819826.\n",
      "[I 2023-06-30 08:30:29,083] Trial 4 finished with value: 0.6313482113323525 and parameters: {'n_estimators': 189, 'learning_rate': 0.023645584403378234, 'max_depth': 8}. Best is trial 4 with value: 0.6313482113323525.\n",
      "[I 2023-06-30 08:30:37,385] A new study created in memory with name: no-name-621fff7f-28f2-4eb9-9f0b-ecb40bce4458\n"
     ]
    },
    {
     "name": "stdout",
     "output_type": "stream",
     "text": [
      "Column: Total cholesterol (mmol/L)\n",
      "RMSE: 0.6313482113323525\n",
      "MAE: 0.4806609244118549\n",
      "R2: 0.6431111353440443\n",
      "Explained Variance: 0.6450994913374242\n",
      "\n"
     ]
    },
    {
     "name": "stderr",
     "output_type": "stream",
     "text": [
      "[I 2023-06-30 08:30:40,043] Trial 0 finished with value: 0.7445449031080289 and parameters: {'n_estimators': 128, 'learning_rate': 0.0182600021564917, 'max_depth': 5}. Best is trial 0 with value: 0.7445449031080289.\n",
      "[I 2023-06-30 08:30:46,963] Trial 1 finished with value: 0.2010362493394328 and parameters: {'n_estimators': 135, 'learning_rate': 0.2761226710062154, 'max_depth': 9}. Best is trial 1 with value: 0.2010362493394328.\n",
      "[I 2023-06-30 08:30:52,298] Trial 2 finished with value: 0.2578218801570129 and parameters: {'n_estimators': 162, 'learning_rate': 0.35851793771129353, 'max_depth': 7}. Best is trial 1 with value: 0.2010362493394328.\n",
      "[I 2023-06-30 08:30:55,841] Trial 3 finished with value: 0.9319156337184249 and parameters: {'n_estimators': 66, 'learning_rate': 0.010666100642576552, 'max_depth': 4}. Best is trial 1 with value: 0.2010362493394328.\n",
      "[I 2023-06-30 08:31:00,451] Trial 4 finished with value: 0.46018153424666786 and parameters: {'n_estimators': 132, 'learning_rate': 0.18397096712891214, 'max_depth': 5}. Best is trial 1 with value: 0.2010362493394328.\n",
      "[I 2023-06-30 08:31:06,264] A new study created in memory with name: no-name-102b44f6-a7a2-42bb-b5ad-d9288df95cdb\n"
     ]
    },
    {
     "name": "stdout",
     "output_type": "stream",
     "text": [
      "Column: Triglycerides (mmol/L)\n",
      "RMSE: 0.2010362493394328\n",
      "MAE: 0.13175632858123912\n",
      "R2: 0.9525371417209397\n",
      "Explained Variance: 0.9525404559754337\n",
      "\n"
     ]
    },
    {
     "name": "stderr",
     "output_type": "stream",
     "text": [
      "[I 2023-06-30 08:31:10,482] Trial 0 finished with value: 23.329138862915176 and parameters: {'n_estimators': 182, 'learning_rate': 0.11945060664331612, 'max_depth': 5}. Best is trial 0 with value: 23.329138862915176.\n",
      "[I 2023-06-30 08:31:16,677] Trial 1 finished with value: 18.27208677632505 and parameters: {'n_estimators': 195, 'learning_rate': 0.1392915643898134, 'max_depth': 6}. Best is trial 1 with value: 18.27208677632505.\n",
      "[I 2023-06-30 08:31:21,308] Trial 2 finished with value: 16.92337719037189 and parameters: {'n_estimators': 140, 'learning_rate': 0.07307302591576073, 'max_depth': 8}. Best is trial 2 with value: 16.92337719037189.\n",
      "[I 2023-06-30 08:31:23,271] Trial 3 finished with value: 30.55748386907709 and parameters: {'n_estimators': 133, 'learning_rate': 0.05177217551203112, 'max_depth': 3}. Best is trial 2 with value: 16.92337719037189.\n",
      "[I 2023-06-30 08:31:25,631] Trial 4 finished with value: 26.850697266674583 and parameters: {'n_estimators': 100, 'learning_rate': 0.04742597867481001, 'max_depth': 6}. Best is trial 2 with value: 16.92337719037189.\n",
      "[I 2023-06-30 08:31:29,281] Trial 5 finished with value: 27.142391777707275 and parameters: {'n_estimators': 145, 'learning_rate': 0.03002394078805997, 'max_depth': 6}. Best is trial 2 with value: 16.92337719037189.\n",
      "[I 2023-06-30 08:31:33,959] A new study created in memory with name: no-name-820a58a3-5c06-4a28-a6e9-618714506b38\n"
     ]
    },
    {
     "name": "stdout",
     "output_type": "stream",
     "text": [
      "Column: LDL cholesterol (mg/dL)\n",
      "RMSE: 16.92337719037189\n",
      "MAE: 12.729094496186582\n",
      "R2: 0.762112828787461\n",
      "Explained Variance: 0.7621128288355276\n",
      "\n"
     ]
    },
    {
     "name": "stderr",
     "output_type": "stream",
     "text": [
      "[I 2023-06-30 08:31:39,933] Trial 0 finished with value: 0.9030975203845353 and parameters: {'n_estimators': 179, 'learning_rate': 0.2041600609992856, 'max_depth': 8}. Best is trial 0 with value: 0.9030975203845353.\n",
      "[I 2023-06-30 08:31:45,716] Trial 1 finished with value: 1.0927755115347957 and parameters: {'n_estimators': 181, 'learning_rate': 0.1127310082624359, 'max_depth': 8}. Best is trial 0 with value: 0.9030975203845353.\n",
      "[I 2023-06-30 08:31:47,694] Trial 2 finished with value: 2.692792338881918 and parameters: {'n_estimators': 178, 'learning_rate': 0.05976658404953586, 'max_depth': 3}. Best is trial 0 with value: 0.9030975203845353.\n",
      "[I 2023-06-30 08:31:48,487] Trial 3 finished with value: 2.6927320830718586 and parameters: {'n_estimators': 53, 'learning_rate': 0.09640825370012306, 'max_depth': 4}. Best is trial 0 with value: 0.9030975203845353.\n",
      "[I 2023-06-30 08:31:54,066] Trial 4 finished with value: 0.8100250051821997 and parameters: {'n_estimators': 152, 'learning_rate': 0.16219100418473073, 'max_depth': 9}. Best is trial 4 with value: 0.8100250051821997.\n",
      "[I 2023-06-30 08:32:00,595] A new study created in memory with name: no-name-3a786c39-ef65-4e1c-bac2-f29a685e66d5\n"
     ]
    },
    {
     "name": "stdout",
     "output_type": "stream",
     "text": [
      "Column: Trunk Fat (%)\n",
      "RMSE: 0.8100250051821997\n",
      "MAE: 0.5157294107255387\n",
      "R2: 0.9914947639079421\n",
      "Explained Variance: 0.9914948219253704\n",
      "\n"
     ]
    },
    {
     "name": "stderr",
     "output_type": "stream",
     "text": [
      "[I 2023-06-30 08:32:02,406] Trial 0 finished with value: 15.852409044439534 and parameters: {'n_estimators': 66, 'learning_rate': 0.011412276910268169, 'max_depth': 8}. Best is trial 0 with value: 15.852409044439534.\n",
      "[I 2023-06-30 08:32:04,892] Trial 1 finished with value: 1.851519659009503 and parameters: {'n_estimators': 124, 'learning_rate': 0.25128765354194765, 'max_depth': 5}. Best is trial 1 with value: 1.851519659009503.\n",
      "[I 2023-06-30 08:32:08,162] Trial 2 finished with value: 5.33913551886877 and parameters: {'n_estimators': 94, 'learning_rate': 0.020402540834086543, 'max_depth': 9}. Best is trial 1 with value: 1.851519659009503.\n",
      "[I 2023-06-30 08:32:09,506] Trial 3 finished with value: 2.18719261348133 and parameters: {'n_estimators': 90, 'learning_rate': 0.37538986530216445, 'max_depth': 4}. Best is trial 1 with value: 1.851519659009503.\n",
      "[I 2023-06-30 08:32:10,834] Trial 4 finished with value: 2.814448544474159 and parameters: {'n_estimators': 57, 'learning_rate': 0.053619016838297534, 'max_depth': 6}. Best is trial 1 with value: 1.851519659009503.\n",
      "[I 2023-06-30 08:32:16,124] Trial 5 finished with value: 2.0653488858578086 and parameters: {'n_estimators': 142, 'learning_rate': 0.05385984599975486, 'max_depth': 6}. Best is trial 1 with value: 1.851519659009503.\n",
      "[I 2023-06-30 08:32:27,023] Trial 6 finished with value: 0.8097163372146976 and parameters: {'n_estimators': 129, 'learning_rate': 0.11705104129949148, 'max_depth': 10}. Best is trial 6 with value: 0.8097163372146976.\n"
     ]
    },
    {
     "name": "stdout",
     "output_type": "stream",
     "text": [
      "Column: Total Fat (%)\n",
      "RMSE: 0.8097163372146976\n",
      "MAE: 0.528037032159889\n",
      "R2: 0.9903154292999047\n",
      "Explained Variance: 0.990316953358431\n",
      "\n"
     ]
    }
   ],
   "source": [
    "import numpy as np\n",
    "import warnings\n",
    "warnings.filterwarnings('ignore')\n",
    "import pickle\n",
    "from xgboost import XGBRegressor\n",
    "from sklearn.preprocessing import StandardScaler\n",
    "from sklearn.metrics import r2_score, mean_squared_error, mean_absolute_error, explained_variance_score\n",
    "import optuna\n",
    "import pandas as pd\n",
    "\n",
    "# Create a dictionary to store the models and best parameters for each target column\n",
    "models = {}\n",
    "best_params = {}\n",
    "best_rmse = {}\n",
    "best_mae = {}\n",
    "\n",
    "# Define the objective function for Optuna\n",
    "def objective(trial):\n",
    "    params = {\n",
    "        'n_estimators': trial.suggest_int('n_estimators', 50, 200),\n",
    "        'learning_rate': trial.suggest_loguniform('learning_rate', 0.01, 0.5),\n",
    "        'max_depth': trial.suggest_int('max_depth', 3, 10)\n",
    "    }\n",
    "\n",
    "    model = XGBRegressor(random_state=0, **params)\n",
    "    model.fit(X_train_scaled, y_train[col])\n",
    "\n",
    "    y_pred = model.predict(X_test_scaled)\n",
    "    rmse = np.sqrt(mean_squared_error(y_test[col], y_pred))\n",
    "\n",
    "    return rmse\n",
    "\n",
    "# Fit XGBoost models for each target column with hyperparameter tuning\n",
    "for col in target_cols:\n",
    "    study = optuna.create_study(direction='minimize')\n",
    "    study.optimize(objective, n_trials=100, timeout=20)  # Adjust the timeout value according to your time-bound constraint\n",
    "\n",
    "    best_params[col] = study.best_params\n",
    "    best_model = XGBRegressor(random_state=0, **best_params[col])\n",
    "    best_model.fit(X_train_scaled, y_train[col])\n",
    "    models[col] = best_model\n",
    "\n",
    "    # Print evaluation metrics\n",
    "    y_pred = best_model.predict(X_test_scaled)\n",
    "    rmse = np.sqrt(mean_squared_error(y_test[col], y_pred))\n",
    "    mae = mean_absolute_error(y_test[col], y_pred)\n",
    "    r2 = r2_score(y_test[col], y_pred)\n",
    "    explained_var = explained_variance_score(y_test[col], y_pred)\n",
    "\n",
    "    best_rmse[col] = rmse\n",
    "    best_mae[col] = mae\n",
    "\n",
    "    print(f\"Column: {col}\")\n",
    "    print(f\"RMSE: {rmse}\")\n",
    "    print(f\"MAE: {mae}\")\n",
    "    print(f\"R2: {r2}\")\n",
    "    print(f\"Explained Variance: {explained_var}\")\n",
    "    print()\n",
    "\n",
    "# Save the best model parameters for each column in a text file\n",
    "with open('best_model_params.txt', 'w') as file:\n",
    "    for col, params in best_params.items():\n",
    "        file.write(f\"Column: {col}\\n\")\n",
    "        file.write(f\"Best Parameters: {params}\\n\\n\")\n",
    "\n",
    "# Save the best RMSE and MAE for each column in a text file\n",
    "with open('best_metrics.txt', 'w') as file:\n",
    "    for col, rmse in best_rmse.items():\n",
    "        file.write(f\"Column: {col}\\n\")\n",
    "        file.write(f\"Best RMSE: {rmse}\\n\")\n",
    "        file.write(f\"Best MAE: {best_mae[col]}\\n\\n\")\n",
    "\n",
    "# Pickle the models and scaler\n",
    "with open('models.pkl', 'wb') as file:\n",
    "    pickle.dump(models, file)\n"
   ]
  }
 ],
 "metadata": {
  "kernelspec": {
   "display_name": "base",
   "language": "python",
   "name": "python3"
  },
  "language_info": {
   "codemirror_mode": {
    "name": "ipython",
    "version": 3
   },
   "file_extension": ".py",
   "mimetype": "text/x-python",
   "name": "python",
   "nbconvert_exporter": "python",
   "pygments_lexer": "ipython3",
   "version": "3.10.8"
  },
  "orig_nbformat": 4
 },
 "nbformat": 4,
 "nbformat_minor": 2
}
