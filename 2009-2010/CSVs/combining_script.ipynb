{
 "cells": [
  {
   "cell_type": "code",
   "execution_count": 1,
   "metadata": {},
   "outputs": [
    {
     "name": "stdout",
     "output_type": "stream",
     "text": [
      "          SEQN  PEASCST1  PEASCTM1  PEASCCT1  BPXCHR  BPQ150A  BPQ150B  \\\n",
      "0      51624.0       1.0     583.0       NaN     NaN      2.0      2.0   \n",
      "1      51625.0       1.0     278.0       NaN    92.0      NaN      NaN   \n",
      "2      51626.0       1.0     689.0       NaN     NaN      1.0      2.0   \n",
      "3      51627.0       1.0     699.0       NaN     NaN      2.0      2.0   \n",
      "4      51628.0       1.0    1098.0       NaN     NaN      1.0      2.0   \n",
      "...        ...       ...       ...       ...     ...      ...      ...   \n",
      "10497  61840.0       NaN       NaN       NaN     NaN      NaN      NaN   \n",
      "10498  61867.0       NaN       NaN       NaN     NaN      NaN      NaN   \n",
      "10499  62082.0       NaN       NaN       NaN     NaN      NaN      NaN   \n",
      "10500  62090.0       NaN       NaN       NaN     NaN      NaN      NaN   \n",
      "10501  62135.0       NaN       NaN       NaN     NaN      NaN      NaN   \n",
      "\n",
      "       BPQ150C  BPQ150D  BPAARM  ...  PAD675_y  PAD680_y  PAAQUEX_y  LBXTC_y  \\\n",
      "0          2.0      2.0     1.0  ...       NaN     480.0        1.0    135.0   \n",
      "1          NaN      NaN     NaN  ...       NaN       NaN        1.0      NaN   \n",
      "2          2.0      2.0     1.0  ...      20.0     240.0        1.0    192.0   \n",
      "3          2.0      2.0     1.0  ...       NaN       NaN        1.0    161.0   \n",
      "4          2.0      2.0     1.0  ...       NaN     240.0        1.0    202.0   \n",
      "...        ...      ...     ...  ...       ...       ...        ...      ...   \n",
      "10497      NaN      NaN     NaN  ...       NaN       NaN        1.0      NaN   \n",
      "10498      NaN      NaN     NaN  ...       NaN     360.0        1.0      NaN   \n",
      "10499      NaN      NaN     NaN  ...       NaN       NaN        1.0      NaN   \n",
      "10500      NaN      NaN     NaN  ...       NaN       NaN        1.0      NaN   \n",
      "10501      NaN      NaN     NaN  ...       NaN       NaN        1.0      NaN   \n",
      "\n",
      "       LBDTCSI_y  WTSAF2YR_y  LBXTR_y  LBDTRSI_y  LBDLDL_y  LBDLDLSI_y  \n",
      "0           3.49         NaN      NaN        NaN       NaN         NaN  \n",
      "1            NaN         NaN      NaN        NaN       NaN         NaN  \n",
      "2           4.97         NaN      NaN        NaN       NaN         NaN  \n",
      "3           4.16         NaN      NaN        NaN       NaN         NaN  \n",
      "4           5.22         NaN      NaN        NaN       NaN         NaN  \n",
      "...          ...         ...      ...        ...       ...         ...  \n",
      "10497        NaN         NaN      NaN        NaN       NaN         NaN  \n",
      "10498        NaN         NaN      NaN        NaN       NaN         NaN  \n",
      "10499        NaN         NaN      NaN        NaN       NaN         NaN  \n",
      "10500        NaN         NaN      NaN        NaN       NaN         NaN  \n",
      "10501        NaN         NaN      NaN        NaN       NaN         NaN  \n",
      "\n",
      "[10502 rows x 102 columns]\n"
     ]
    },
    {
     "name": "stderr",
     "output_type": "stream",
     "text": [
      "c:\\Users\\Vartul\\miniconda3\\lib\\site-packages\\pandas\\core\\frame.py:9190: FutureWarning: Passing 'suffixes' which cause duplicate columns {'WTSAF2YR_x'} in the result is deprecated and will raise a MergeError in a future version.\n",
      "  return merge(\n"
     ]
    }
   ],
   "source": [
    "import pandas as pd\n",
    "import os\n",
    "\n",
    "def get_csv_filenames():\n",
    "    csv_filenames = [filename for filename in os.listdir() if filename.endswith('.csv')]\n",
    "    return csv_filenames\n",
    "\n",
    "csv_filenames = get_csv_filenames()\n",
    "dataset_names = csv_filenames\n",
    "\n",
    "# Read the first dataset into a pandas DataFrame\n",
    "combined_data = pd.read_csv(dataset_names[0])\n",
    "\n",
    "# Iterate over the remaining datasets and merge them based on 'SEQN'\n",
    "for dataset_name in dataset_names[1:]:\n",
    "    dataset = pd.read_csv(dataset_name)\n",
    "    combined_data = combined_data.merge(dataset, on='SEQN', how='outer')\n",
    "    \n",
    "# Print the combined data\n",
    "print(combined_data)\n",
    "merged_dataset = combined_data"
   ]
  },
  {
   "cell_type": "code",
   "execution_count": 2,
   "metadata": {},
   "outputs": [],
   "source": [
    "merged_dataset.to_csv(r'OG_2009_10.csv')"
   ]
  }
 ],
 "metadata": {
  "kernelspec": {
   "display_name": "base",
   "language": "python",
   "name": "python3"
  },
  "language_info": {
   "codemirror_mode": {
    "name": "ipython",
    "version": 3
   },
   "file_extension": ".py",
   "mimetype": "text/x-python",
   "name": "python",
   "nbconvert_exporter": "python",
   "pygments_lexer": "ipython3",
   "version": "3.10.8"
  },
  "orig_nbformat": 4
 },
 "nbformat": 4,
 "nbformat_minor": 2
}
