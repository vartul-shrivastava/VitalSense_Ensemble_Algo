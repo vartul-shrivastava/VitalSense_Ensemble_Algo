{
 "cells": [
  {
   "cell_type": "code",
   "execution_count": 1,
   "metadata": {},
   "outputs": [
    {
     "name": "stdout",
     "output_type": "stream",
     "text": [
      "          SEQN  BMDSTATS  BMXWT  BMIWT  BMXRECUM  BMIRECUM  BMXHEAD  BMIHEAD  \\\n",
      "0      73557.0       1.0   78.3    NaN       NaN       NaN      NaN      NaN   \n",
      "1      73558.0       1.0   89.5    NaN       NaN       NaN      NaN      NaN   \n",
      "2      73559.0       1.0   88.9    NaN       NaN       NaN      NaN      NaN   \n",
      "3      73560.0       1.0   32.2    NaN       NaN       NaN      NaN      NaN   \n",
      "4      73561.0       3.0   52.0    NaN       NaN       NaN      NaN      NaN   \n",
      "...        ...       ...    ...    ...       ...       ...      ...      ...   \n",
      "10170  83551.0       NaN    NaN    NaN       NaN       NaN      NaN      NaN   \n",
      "10171  83593.0       NaN    NaN    NaN       NaN       NaN      NaN      NaN   \n",
      "10172  83635.0       NaN    NaN    NaN       NaN       NaN      NaN      NaN   \n",
      "10173  83652.0       NaN    NaN    NaN       NaN       NaN      NaN      NaN   \n",
      "10174  83657.0       NaN    NaN    NaN       NaN       NaN      NaN      NaN   \n",
      "\n",
      "       BMXHT  BMIHT  ...  PAQ772B  PAQ772C  PAAQUEX  LBXTC  LBDTCSI  \\\n",
      "0      171.3    NaN  ...      NaN      NaN      1.0  167.0     4.32   \n",
      "1      176.8    NaN  ...      NaN      NaN      1.0  170.0     4.40   \n",
      "2      175.3    NaN  ...      NaN      NaN      1.0  126.0     3.26   \n",
      "3      137.3    NaN  ...      NaN      NaN      1.0  168.0     4.34   \n",
      "4      162.4    NaN  ...      NaN      NaN      1.0  201.0     5.20   \n",
      "...      ...    ...  ...      ...      ...      ...    ...      ...   \n",
      "10170    NaN    NaN  ...      NaN      NaN      1.0    NaN      NaN   \n",
      "10171    NaN    NaN  ...      NaN      NaN      1.0    NaN      NaN   \n",
      "10172    NaN    NaN  ...      NaN      NaN      1.0    NaN      NaN   \n",
      "10173    NaN    NaN  ...      NaN      NaN      1.0    NaN      NaN   \n",
      "10174    NaN    NaN  ...      NaN      NaN      1.0    NaN      NaN   \n",
      "\n",
      "            WTSAF2YR  LBXTR  LBDTRSI  LBDLDL  LBDLDLSI  \n",
      "0                NaN    NaN      NaN     NaN       NaN  \n",
      "1                NaN    NaN      NaN     NaN       NaN  \n",
      "2      142196.890197   51.0    0.576    56.0     1.448  \n",
      "3                NaN    NaN      NaN     NaN       NaN  \n",
      "4      142266.006548   75.0    0.847   101.0     2.612  \n",
      "...              ...    ...      ...     ...       ...  \n",
      "10170            NaN    NaN      NaN     NaN       NaN  \n",
      "10171            NaN    NaN      NaN     NaN       NaN  \n",
      "10172            NaN    NaN      NaN     NaN       NaN  \n",
      "10173            NaN    NaN      NaN     NaN       NaN  \n",
      "10174            NaN    NaN      NaN     NaN       NaN  \n",
      "\n",
      "[10175 rows x 279 columns]\n"
     ]
    }
   ],
   "source": [
    "import pandas as pd\n",
    "import os\n",
    "\n",
    "def get_csv_filenames():\n",
    "    csv_filenames = [filename for filename in os.listdir() if filename.endswith('.csv')]\n",
    "    return csv_filenames\n",
    "\n",
    "# Example usage\n",
    "csv_filenames = get_csv_filenames()\n",
    "dataset_names = csv_filenames\n",
    "\n",
    "# Read the first dataset into a pandas DataFrame\n",
    "combined_data = pd.read_csv(dataset_names[0])\n",
    "\n",
    "# Iterate over the remaining datasets and merge them based on 'SEQN'\n",
    "for dataset_name in dataset_names[1:]:\n",
    "    dataset = pd.read_csv(dataset_name)\n",
    "    combined_data = combined_data.merge(dataset, on='SEQN', how='outer')\n",
    "    \n",
    "# Print the combined data\n",
    "print(combined_data)\n",
    "merged_dataset = combined_data"
   ]
  },
  {
   "cell_type": "code",
   "execution_count": 2,
   "metadata": {},
   "outputs": [],
   "source": [
    "merged_dataset.to_csv(r'OG_2013_14.csv')"
   ]
  },
  {
   "cell_type": "code",
   "execution_count": null,
   "metadata": {},
   "outputs": [],
   "source": []
  }
 ],
 "metadata": {
  "kernelspec": {
   "display_name": "base",
   "language": "python",
   "name": "python3"
  },
  "language_info": {
   "codemirror_mode": {
    "name": "ipython",
    "version": 3
   },
   "file_extension": ".py",
   "mimetype": "text/x-python",
   "name": "python",
   "nbconvert_exporter": "python",
   "pygments_lexer": "ipython3",
   "version": "3.10.8"
  },
  "orig_nbformat": 4
 },
 "nbformat": 4,
 "nbformat_minor": 2
}
