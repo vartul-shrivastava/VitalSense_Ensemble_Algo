{
 "cells": [
  {
   "cell_type": "code",
   "execution_count": 1,
   "metadata": {},
   "outputs": [
    {
     "name": "stdout",
     "output_type": "stream",
     "text": [
      "         SEQN  BMDSTATS  BMXWT  BMIWT  BMXRECUM  BMIRECUM  BMXHEAD  BMIHEAD  \\\n",
      "0     83732.0       1.0   94.8    NaN       NaN       NaN      NaN      NaN   \n",
      "1     83733.0       1.0   90.4    NaN       NaN       NaN      NaN      NaN   \n",
      "2     83734.0       1.0   83.4    NaN       NaN       NaN      NaN      NaN   \n",
      "3     83735.0       1.0  109.8    NaN       NaN       NaN      NaN      NaN   \n",
      "4     83736.0       3.0   55.2    NaN       NaN       NaN      NaN      NaN   \n",
      "...       ...       ...    ...    ...       ...       ...      ...      ...   \n",
      "9966  93603.0       NaN    NaN    NaN       NaN       NaN      NaN      NaN   \n",
      "9967  93641.0       NaN    NaN    NaN       NaN       NaN      NaN      NaN   \n",
      "9968  93651.0       NaN    NaN    NaN       NaN       NaN      NaN      NaN   \n",
      "9969  93666.0       NaN    NaN    NaN       NaN       NaN      NaN      NaN   \n",
      "9970  93681.0       NaN    NaN    NaN       NaN       NaN      NaN      NaN   \n",
      "\n",
      "      BMXHT  BMIHT  ...  PAQ772A  PAQ772B  PAQ772C  LBXTC  LBDTCSI  \\\n",
      "0     184.5    NaN  ...      NaN      NaN      NaN  173.0     4.47   \n",
      "1     171.4    NaN  ...      NaN      NaN      NaN  265.0     6.85   \n",
      "2     170.1    NaN  ...      NaN      NaN      NaN  229.0     5.92   \n",
      "3     160.9    NaN  ...      NaN      NaN      NaN  174.0     4.50   \n",
      "4     164.9    NaN  ...      NaN      NaN      NaN  204.0     5.28   \n",
      "...     ...    ...  ...      ...      ...      ...    ...      ...   \n",
      "9966    NaN    NaN  ...      NaN      NaN      NaN    NaN      NaN   \n",
      "9967    NaN    NaN  ...      NaN      NaN      NaN    NaN      NaN   \n",
      "9968    NaN    NaN  ...      NaN      NaN      NaN    NaN      NaN   \n",
      "9969    NaN    NaN  ...      NaN      NaN      NaN    NaN      NaN   \n",
      "9970    NaN    NaN  ...      NaN      NaN      NaN    NaN      NaN   \n",
      "\n",
      "          WTSAF2YR  LBXTR  LBDTRSI  LBDLDL  LBDLDLSI  \n",
      "0              NaN    NaN      NaN     NaN       NaN  \n",
      "1     54722.343330  147.0    1.660   173.0     4.474  \n",
      "2     25471.093699  269.0    3.037   145.0     3.750  \n",
      "3              NaN    NaN      NaN     NaN       NaN  \n",
      "4     38179.510870   47.0    0.531   142.0     3.672  \n",
      "...            ...    ...      ...     ...       ...  \n",
      "9966           NaN    NaN      NaN     NaN       NaN  \n",
      "9967           NaN    NaN      NaN     NaN       NaN  \n",
      "9968           NaN    NaN      NaN     NaN       NaN  \n",
      "9969           NaN    NaN      NaN     NaN       NaN  \n",
      "9970           NaN    NaN      NaN     NaN       NaN  \n",
      "\n",
      "[9971 rows x 275 columns]\n"
     ]
    }
   ],
   "source": [
    "import pandas as pd\n",
    "import os\n",
    "\n",
    "def get_csv_filenames():\n",
    "    csv_filenames = [filename for filename in os.listdir() if filename.endswith('.csv')]\n",
    "    return csv_filenames\n",
    "\n",
    "# Example usage\n",
    "csv_filenames = get_csv_filenames()\n",
    "dataset_names = csv_filenames\n",
    "\n",
    "# Read the first dataset into a pandas DataFrame\n",
    "combined_data = pd.read_csv(dataset_names[0])\n",
    "\n",
    "# Iterate over the remaining datasets and merge them based on 'SEQN'\n",
    "for dataset_name in dataset_names[1:]:\n",
    "    dataset = pd.read_csv(dataset_name)\n",
    "    combined_data = combined_data.merge(dataset, on='SEQN', how='outer')\n",
    "    \n",
    "# Print the combined data\n",
    "print(combined_data)\n",
    "merged_dataset = combined_data"
   ]
  },
  {
   "cell_type": "code",
   "execution_count": 2,
   "metadata": {},
   "outputs": [],
   "source": [
    "merged_dataset.to_csv(r'OG_2015_16.csv')"
   ]
  },
  {
   "cell_type": "code",
   "execution_count": null,
   "metadata": {},
   "outputs": [],
   "source": []
  }
 ],
 "metadata": {
  "kernelspec": {
   "display_name": "base",
   "language": "python",
   "name": "python3"
  },
  "language_info": {
   "codemirror_mode": {
    "name": "ipython",
    "version": 3
   },
   "file_extension": ".py",
   "mimetype": "text/x-python",
   "name": "python",
   "nbconvert_exporter": "python",
   "pygments_lexer": "ipython3",
   "version": "3.10.8"
  },
  "orig_nbformat": 4
 },
 "nbformat": 4,
 "nbformat_minor": 2
}
