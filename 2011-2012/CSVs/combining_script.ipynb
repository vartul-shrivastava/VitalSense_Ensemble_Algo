{
 "cells": [
  {
   "cell_type": "code",
   "execution_count": 1,
   "metadata": {},
   "outputs": [
    {
     "name": "stdout",
     "output_type": "stream",
     "text": [
      "         SEQN  BMDSTATS  BMXWT  BMIWT  BMXRECUM  BMIRECUM  BMXHEAD  BMIHEAD  \\\n",
      "0     62161.0       1.0   69.2    NaN       NaN       NaN      NaN      NaN   \n",
      "1     62162.0       1.0   12.7    NaN      95.7       NaN      NaN      NaN   \n",
      "2     62163.0       1.0   49.4    NaN       NaN       NaN      NaN      NaN   \n",
      "3     62164.0       1.0   67.2    NaN       NaN       NaN      NaN      NaN   \n",
      "4     62165.0       1.0   69.1    NaN       NaN       NaN      NaN      NaN   \n",
      "...       ...       ...    ...    ...       ...       ...      ...      ...   \n",
      "9751  71774.0       NaN    NaN    NaN       NaN       NaN      NaN      NaN   \n",
      "9752  71783.0       NaN    NaN    NaN       NaN       NaN      NaN      NaN   \n",
      "9753  71890.0       NaN    NaN    NaN       NaN       NaN      NaN      NaN   \n",
      "9754  71900.0       NaN    NaN    NaN       NaN       NaN      NaN      NaN   \n",
      "9755  71905.0       NaN    NaN    NaN       NaN       NaN      NaN      NaN   \n",
      "\n",
      "      BMXHT  BMIHT  ...        PAQ710        PAQ715  PAAQUEX  LBXTC  LBDTCSI  \\\n",
      "0     172.3    NaN  ...  3.000000e+00  3.000000e+00      1.0  168.0     4.34   \n",
      "1      94.7    NaN  ...  5.397605e-79  8.000000e+00      1.0    NaN      NaN   \n",
      "2     168.9    NaN  ...  2.000000e+00  3.000000e+00      2.0  154.0     3.98   \n",
      "3     170.1    NaN  ...  2.000000e+00  8.000000e+00      1.0  190.0     4.91   \n",
      "4     159.4    NaN  ...  5.000000e+00  2.000000e+00      2.0  161.0     4.16   \n",
      "...     ...    ...  ...           ...           ...      ...    ...      ...   \n",
      "9751    NaN    NaN  ...  1.000000e+00  5.397605e-79      1.0    NaN      NaN   \n",
      "9752    NaN    NaN  ...           NaN           NaN      NaN    NaN      NaN   \n",
      "9753    NaN    NaN  ...  2.000000e+00  5.397605e-79      1.0    NaN      NaN   \n",
      "9754    NaN    NaN  ...  5.397605e-79  5.397605e-79      1.0    NaN      NaN   \n",
      "9755    NaN    NaN  ...  1.000000e+00  1.000000e+00      1.0    NaN      NaN   \n",
      "\n",
      "      WTSAF2YR_y  LBXTR  LBDTRSI  LBDLDL  LBDLDLSI  \n",
      "0     240011.713   84.0    0.948   110.0     2.845  \n",
      "1            NaN    NaN      NaN     NaN       NaN  \n",
      "2            NaN    NaN      NaN     NaN       NaN  \n",
      "3     288182.780   56.0    0.632   151.0     3.905  \n",
      "4      32747.025   71.0    0.802    84.0     2.172  \n",
      "...          ...    ...      ...     ...       ...  \n",
      "9751         NaN    NaN      NaN     NaN       NaN  \n",
      "9752         NaN    NaN      NaN     NaN       NaN  \n",
      "9753         NaN    NaN      NaN     NaN       NaN  \n",
      "9754         NaN    NaN      NaN     NaN       NaN  \n",
      "9755         NaN    NaN      NaN     NaN       NaN  \n",
      "\n",
      "[9756 rows x 202 columns]\n"
     ]
    }
   ],
   "source": [
    "import pandas as pd\n",
    "import os\n",
    "\n",
    "def get_csv_filenames():\n",
    "    csv_filenames = [filename for filename in os.listdir() if filename.endswith('.csv')]\n",
    "    return csv_filenames\n",
    "\n",
    "# Example usage\n",
    "csv_filenames = get_csv_filenames()\n",
    "dataset_names = csv_filenames\n",
    "\n",
    "# Read the first dataset into a pandas DataFrame\n",
    "combined_data = pd.read_csv(dataset_names[0])\n",
    "\n",
    "# Iterate over the remaining datasets and merge them based on 'SEQN'\n",
    "for dataset_name in dataset_names[1:]:\n",
    "    dataset = pd.read_csv(dataset_name)\n",
    "    combined_data = combined_data.merge(dataset, on='SEQN', how='outer')\n",
    "    \n",
    "# Print the combined data\n",
    "print(combined_data)\n",
    "merged_dataset = combined_data"
   ]
  },
  {
   "cell_type": "code",
   "execution_count": 2,
   "metadata": {},
   "outputs": [],
   "source": [
    "merged_dataset.to_csv('OG_2011_12.csv')"
   ]
  },
  {
   "cell_type": "code",
   "execution_count": null,
   "metadata": {},
   "outputs": [],
   "source": []
  }
 ],
 "metadata": {
  "kernelspec": {
   "display_name": "base",
   "language": "python",
   "name": "python3"
  },
  "language_info": {
   "codemirror_mode": {
    "name": "ipython",
    "version": 3
   },
   "file_extension": ".py",
   "mimetype": "text/x-python",
   "name": "python",
   "nbconvert_exporter": "python",
   "pygments_lexer": "ipython3",
   "version": "3.10.8"
  },
  "orig_nbformat": 4
 },
 "nbformat": 4,
 "nbformat_minor": 2
}
