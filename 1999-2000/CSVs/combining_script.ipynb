{
 "cells": [
  {
   "cell_type": "code",
   "execution_count": 1,
   "metadata": {},
   "outputs": [
    {
     "name": "stdout",
     "output_type": "stream",
     "text": [
      "        SEQN  BMAEXLEN  BMAEXSTS  BMAEXCMT  BMXWT  BMIWT  BMXRECUM  BMIRECUM  \\\n",
      "0        1.0     289.0       1.0       NaN   12.5    3.0      93.2       NaN   \n",
      "1        2.0     376.0       1.0       NaN   75.4    NaN       NaN       NaN   \n",
      "2        3.0     199.0       1.0       NaN   32.9    NaN       NaN       NaN   \n",
      "3        4.0     170.0       1.0       NaN   13.3    NaN      87.1       NaN   \n",
      "4        5.0     277.0       1.0       NaN   92.5    NaN       NaN       NaN   \n",
      "...      ...       ...       ...       ...    ...    ...       ...       ...   \n",
      "9878  9916.0       NaN       NaN       NaN    NaN    NaN       NaN       NaN   \n",
      "9879  9924.0       NaN       NaN       NaN    NaN    NaN       NaN       NaN   \n",
      "9880  9943.0       NaN       NaN       NaN    NaN    NaN       NaN       NaN   \n",
      "9881  9957.0       NaN       NaN       NaN    NaN    NaN       NaN       NaN   \n",
      "9882  9963.0       NaN       NaN       NaN    NaN    NaN       NaN       NaN   \n",
      "\n",
      "      BMXHEAD  BMIHEAD  ...  PAD440  PAD460  PAQ480  PAQ500  PAQ520  PAQ540  \\\n",
      "0         NaN      NaN  ...     NaN     NaN     NaN     NaN     NaN     NaN   \n",
      "1         NaN      NaN  ...     1.0    60.0     3.0     2.0     1.0     3.0   \n",
      "2         NaN      NaN  ...     NaN     NaN     NaN     NaN     NaN     NaN   \n",
      "3         NaN      NaN  ...     NaN     NaN     NaN     NaN     NaN     NaN   \n",
      "4         NaN      NaN  ...     1.0     4.0     2.0     3.0     1.0     3.0   \n",
      "...       ...      ...  ...     ...     ...     ...     ...     ...     ...   \n",
      "9878      NaN      NaN  ...     2.0     NaN     6.0     3.0     1.0     3.0   \n",
      "9879      NaN      NaN  ...     2.0     NaN     5.0     3.0     3.0     3.0   \n",
      "9880      NaN      NaN  ...     2.0     NaN     2.0     3.0     1.0     3.0   \n",
      "9881      NaN      NaN  ...     2.0     NaN     2.0     3.0     3.0     NaN   \n",
      "9882      NaN      NaN  ...     2.0     NaN     5.0     3.0     3.0     NaN   \n",
      "\n",
      "      PAQ560        PAD570        PAQ580  PAAQUEX  \n",
      "0        7.0  9.900000e+01  9.900000e+01      1.0  \n",
      "1        NaN           NaN           NaN      1.0  \n",
      "2        6.0  5.397605e-79  5.397605e-79      1.0  \n",
      "3        NaN           NaN           NaN      NaN  \n",
      "4        NaN           NaN           NaN      1.0  \n",
      "...      ...           ...           ...      ...  \n",
      "9878     NaN           NaN           NaN      1.0  \n",
      "9879     NaN           NaN           NaN      1.0  \n",
      "9880     NaN           NaN           NaN      1.0  \n",
      "9881     NaN           NaN           NaN      1.0  \n",
      "9882     NaN           NaN           NaN      1.0  \n",
      "\n",
      "[9883 rows x 76 columns]\n"
     ]
    }
   ],
   "source": [
    "import pandas as pd\n",
    "import os\n",
    "\n",
    "def get_csv_filenames():\n",
    "    csv_filenames = [filename for filename in os.listdir() if filename.endswith('.csv')]\n",
    "    return csv_filenames\n",
    "\n",
    "# Example usage\n",
    "csv_filenames = get_csv_filenames()\n",
    "dataset_names = csv_filenames\n",
    "\n",
    "# Read the first dataset into a pandas DataFrame\n",
    "combined_data = pd.read_csv(dataset_names[0])\n",
    "\n",
    "# Iterate over the remaining datasets and merge them based on 'SEQN'\n",
    "for dataset_name in dataset_names[1:]:\n",
    "    dataset = pd.read_csv(dataset_name)\n",
    "    combined_data = combined_data.merge(dataset, on='SEQN', how='outer')\n",
    "    \n",
    "# Print the combined data\n",
    "print(combined_data)\n",
    "merged_dataset = combined_data"
   ]
  },
  {
   "cell_type": "code",
   "execution_count": 2,
   "metadata": {},
   "outputs": [],
   "source": [
    "merged_dataset.to_csv(r'OG_1999_2000.csv')"
   ]
  },
  {
   "cell_type": "code",
   "execution_count": null,
   "metadata": {},
   "outputs": [],
   "source": []
  }
 ],
 "metadata": {
  "kernelspec": {
   "display_name": "base",
   "language": "python",
   "name": "python3"
  },
  "language_info": {
   "codemirror_mode": {
    "name": "ipython",
    "version": 3
   },
   "file_extension": ".py",
   "mimetype": "text/x-python",
   "name": "python",
   "nbconvert_exporter": "python",
   "pygments_lexer": "ipython3",
   "version": "3.10.8"
  },
  "orig_nbformat": 4
 },
 "nbformat": 4,
 "nbformat_minor": 2
}
