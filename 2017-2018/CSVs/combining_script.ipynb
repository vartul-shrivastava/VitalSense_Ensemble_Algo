{
 "cells": [
  {
   "cell_type": "code",
   "execution_count": 1,
   "metadata": {},
   "outputs": [
    {
     "name": "stdout",
     "output_type": "stream",
     "text": [
      "          SEQN  BMDSTATS  BMXWT  BMIWT  BMXRECUM  BMIRECUM  BMXHEAD  BMIHEAD  \\\n",
      "0      93703.0       1.0   13.7    3.0      89.6       NaN      NaN      NaN   \n",
      "1      93704.0       1.0   13.9    NaN      95.0       NaN      NaN      NaN   \n",
      "2      93705.0       1.0   79.5    NaN       NaN       NaN      NaN      NaN   \n",
      "3      93706.0       1.0   66.3    NaN       NaN       NaN      NaN      NaN   \n",
      "4      93707.0       1.0   45.4    NaN       NaN       NaN      NaN      NaN   \n",
      "...        ...       ...    ...    ...       ...       ...      ...      ...   \n",
      "9249  102902.0       NaN    NaN    NaN       NaN       NaN      NaN      NaN   \n",
      "9250  102928.0       NaN    NaN    NaN       NaN       NaN      NaN      NaN   \n",
      "9251  102931.0       NaN    NaN    NaN       NaN       NaN      NaN      NaN   \n",
      "9252  102940.0       NaN    NaN    NaN       NaN       NaN      NaN      NaN   \n",
      "9253  102950.0       NaN    NaN    NaN       NaN       NaN      NaN      NaN   \n",
      "\n",
      "      BMXHT  BMIHT  ...  LBDTCSI  WTSAF2YR  LBXTR  LBDTRSI  LBDLDL  LBDLDLSI  \\\n",
      "0      88.6    NaN  ...      NaN       NaN    NaN      NaN     NaN       NaN   \n",
      "1      94.2    NaN  ...      NaN       NaN    NaN      NaN     NaN       NaN   \n",
      "2     158.3    NaN  ...     4.06       NaN    NaN      NaN     NaN       NaN   \n",
      "3     175.7    NaN  ...     3.83       NaN    NaN      NaN     NaN       NaN   \n",
      "4     158.4    NaN  ...     4.89       NaN    NaN      NaN     NaN       NaN   \n",
      "...     ...    ...  ...      ...       ...    ...      ...     ...       ...   \n",
      "9249    NaN    NaN  ...      NaN       NaN    NaN      NaN     NaN       NaN   \n",
      "9250    NaN    NaN  ...      NaN       NaN    NaN      NaN     NaN       NaN   \n",
      "9251    NaN    NaN  ...      NaN       NaN    NaN      NaN     NaN       NaN   \n",
      "9252    NaN    NaN  ...      NaN       NaN    NaN      NaN     NaN       NaN   \n",
      "9253    NaN    NaN  ...      NaN       NaN    NaN      NaN     NaN       NaN   \n",
      "\n",
      "      LBDLDLM  LBDLDMSI  LBDLDLN  LBDLDNSI  \n",
      "0         NaN       NaN      NaN       NaN  \n",
      "1         NaN       NaN      NaN       NaN  \n",
      "2         NaN       NaN      NaN       NaN  \n",
      "3         NaN       NaN      NaN       NaN  \n",
      "4         NaN       NaN      NaN       NaN  \n",
      "...       ...       ...      ...       ...  \n",
      "9249      NaN       NaN      NaN       NaN  \n",
      "9250      NaN       NaN      NaN       NaN  \n",
      "9251      NaN       NaN      NaN       NaN  \n",
      "9252      NaN       NaN      NaN       NaN  \n",
      "9253      NaN       NaN      NaN       NaN  \n",
      "\n",
      "[9254 rows x 195 columns]\n"
     ]
    }
   ],
   "source": [
    "import pandas as pd\n",
    "import os\n",
    "\n",
    "def get_csv_filenames():\n",
    "    csv_filenames = [filename for filename in os.listdir() if filename.endswith('.csv')]\n",
    "    return csv_filenames\n",
    "\n",
    "# Example usage\n",
    "csv_filenames = get_csv_filenames()\n",
    "dataset_names = csv_filenames\n",
    "\n",
    "# Read the first dataset into a pandas DataFrame\n",
    "combined_data = pd.read_csv(dataset_names[0])\n",
    "\n",
    "# Iterate over the remaining datasets and merge them based on 'SEQN'\n",
    "for dataset_name in dataset_names[1:]:\n",
    "    dataset = pd.read_csv(dataset_name)\n",
    "    combined_data = combined_data.merge(dataset, on='SEQN', how='outer')\n",
    "    \n",
    "# Print the combined data\n",
    "print(combined_data)\n",
    "merged_dataset = combined_data"
   ]
  },
  {
   "cell_type": "code",
   "execution_count": 2,
   "metadata": {},
   "outputs": [],
   "source": [
    "merged_dataset.to_csv(r'OG_2017_18.csv')"
   ]
  },
  {
   "cell_type": "code",
   "execution_count": null,
   "metadata": {},
   "outputs": [],
   "source": []
  }
 ],
 "metadata": {
  "kernelspec": {
   "display_name": "base",
   "language": "python",
   "name": "python3"
  },
  "language_info": {
   "codemirror_mode": {
    "name": "ipython",
    "version": 3
   },
   "file_extension": ".py",
   "mimetype": "text/x-python",
   "name": "python",
   "nbconvert_exporter": "python",
   "pygments_lexer": "ipython3",
   "version": "3.10.8"
  },
  "orig_nbformat": 4
 },
 "nbformat": 4,
 "nbformat_minor": 2
}
