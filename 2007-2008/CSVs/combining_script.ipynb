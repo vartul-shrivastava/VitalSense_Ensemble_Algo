{
 "cells": [
  {
   "cell_type": "code",
   "execution_count": 1,
   "metadata": {},
   "outputs": [
    {
     "name": "stdout",
     "output_type": "stream",
     "text": [
      "         SEQN  BMDSTATS  BMXWT  BMIWT  BMXRECUM  BMIRECUM  BMXHEAD  BMIHEAD  \\\n",
      "0     41475.0       3.0  138.9    NaN       NaN       NaN      NaN      NaN   \n",
      "1     41476.0       1.0   22.0    NaN       NaN       NaN      NaN      NaN   \n",
      "2     41477.0       1.0   83.9    NaN       NaN       NaN      NaN      NaN   \n",
      "3     41478.0       1.0   11.5    NaN      77.4       NaN      NaN      NaN   \n",
      "4     41479.0       1.0   65.7    NaN       NaN       NaN      NaN      NaN   \n",
      "...       ...       ...    ...    ...       ...       ...      ...      ...   \n",
      "9757  51619.0       1.0   89.4    NaN       NaN       NaN      NaN      NaN   \n",
      "9758  51620.0       1.0   72.2    NaN       NaN       NaN      NaN      NaN   \n",
      "9759  51621.0       1.0   42.8    NaN       NaN       NaN      NaN      NaN   \n",
      "9760  51622.0       1.0   79.1    NaN       NaN       NaN      NaN      NaN   \n",
      "9761  51623.0       1.0   85.2    NaN       NaN       NaN      NaN      NaN   \n",
      "\n",
      "      BMXHT  BMIHT  ...  PHAFSTMN  LBDHDD  LBDHDDSI  LBXTC  LBDTCSI  \\\n",
      "0     154.7    NaN  ...       NaN    47.0      1.22  179.0     4.63   \n",
      "1     120.4    NaN  ...       NaN    45.0      1.16  143.0     3.70   \n",
      "2     167.1    NaN  ...       NaN    34.0      0.88  191.0     4.94   \n",
      "3       NaN    NaN  ...       NaN     NaN       NaN    NaN      NaN   \n",
      "4     154.4    NaN  ...      30.0    47.0      1.22  188.0     4.86   \n",
      "...     ...    ...  ...       ...     ...       ...    ...      ...   \n",
      "9757  172.4    NaN  ...       NaN    50.0      1.29  220.0     5.69   \n",
      "9758  159.7    NaN  ...      57.0    41.0      1.06  244.0     6.31   \n",
      "9759  155.4    NaN  ...       NaN    45.0      1.16  128.0     3.31   \n",
      "9760  158.4    NaN  ...       NaN    65.0      1.68  208.0     5.38   \n",
      "9761  162.5    3.0  ...      49.0    42.0      1.09  114.0     2.95   \n",
      "\n",
      "      WTSAF2YR_y  LBXTR  LBDTRSI  LBDLDL  LBDLDLSI  \n",
      "0            NaN    NaN      NaN     NaN       NaN  \n",
      "1            NaN    NaN      NaN     NaN       NaN  \n",
      "2            NaN    NaN      NaN     NaN       NaN  \n",
      "3            NaN    NaN      NaN     NaN       NaN  \n",
      "4      19983.600   99.0    1.118   121.0     3.129  \n",
      "...          ...    ...      ...     ...       ...  \n",
      "9757         NaN    NaN      NaN     NaN       NaN  \n",
      "9758   54704.610  223.0    2.518   158.0     4.086  \n",
      "9759         NaN    NaN      NaN     NaN       NaN  \n",
      "9760         NaN    NaN      NaN     NaN       NaN  \n",
      "9761   66896.791   56.0    0.632    61.0     1.577  \n",
      "\n",
      "[9762 rows x 40 columns]\n"
     ]
    }
   ],
   "source": [
    "import pandas as pd\n",
    "import os\n",
    "\n",
    "def get_csv_filenames():\n",
    "    csv_filenames = [filename for filename in os.listdir() if filename.endswith('.csv')]\n",
    "    return csv_filenames\n",
    "\n",
    "# Example usage\n",
    "csv_filenames = get_csv_filenames()\n",
    "dataset_names = csv_filenames\n",
    "\n",
    "# Read the first dataset into a pandas DataFrame\n",
    "combined_data = pd.read_csv(dataset_names[0])\n",
    "\n",
    "# Iterate over the remaining datasets and merge them based on 'SEQN'\n",
    "for dataset_name in dataset_names[1:]:\n",
    "    dataset = pd.read_csv(dataset_name)\n",
    "    combined_data = combined_data.merge(dataset, on='SEQN', how='outer')\n",
    "    \n",
    "# Print the combined data\n",
    "print(combined_data)\n",
    "merged_dataset = combined_data"
   ]
  },
  {
   "cell_type": "code",
   "execution_count": 2,
   "metadata": {},
   "outputs": [],
   "source": [
    "merged_dataset.to_csv(r'OG_2007_08.csv')"
   ]
  },
  {
   "cell_type": "code",
   "execution_count": null,
   "metadata": {},
   "outputs": [],
   "source": []
  }
 ],
 "metadata": {
  "kernelspec": {
   "display_name": "base",
   "language": "python",
   "name": "python3"
  },
  "language_info": {
   "codemirror_mode": {
    "name": "ipython",
    "version": 3
   },
   "file_extension": ".py",
   "mimetype": "text/x-python",
   "name": "python",
   "nbconvert_exporter": "python",
   "pygments_lexer": "ipython3",
   "version": "3.10.8"
  },
  "orig_nbformat": 4
 },
 "nbformat": 4,
 "nbformat_minor": 2
}
