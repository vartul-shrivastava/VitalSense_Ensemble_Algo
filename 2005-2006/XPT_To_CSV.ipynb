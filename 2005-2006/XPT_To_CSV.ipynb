{
 "cells": [
  {
   "cell_type": "code",
   "execution_count": 1,
   "metadata": {},
   "outputs": [
    {
     "name": "stdout",
     "output_type": "stream",
     "text": [
      "Converted BMX_D.XPT to CSVs\\BMX_D.csv\n",
      "Converted GLU_D.XPT to CSVs\\GLU_D.csv\n",
      "Converted HDL_D.XPT to CSVs\\HDL_D.csv\n",
      "Converted PAQ_D.XPT to CSVs\\PAQ_D.csv\n",
      "Converted TCHOL_D.XPT to CSVs\\TCHOL_D.csv\n",
      "Converted TRIGLY_D.XPT to CSVs\\TRIGLY_D.csv\n",
      "Conversion complete!\n"
     ]
    }
   ],
   "source": [
    "import os\n",
    "import pandas as pd\n",
    "\n",
    "# Create the CSVs folder if it doesn't exist\n",
    "output_folder = \"CSVs\"\n",
    "if not os.path.exists(output_folder):\n",
    "    os.makedirs(output_folder)\n",
    "\n",
    "# Get a list of all XPT files in the current directory\n",
    "xpt_files = [file for file in os.listdir(\".\") if file.endswith(\".XPT\")]\n",
    "\n",
    "# Convert XPT files to CSV\n",
    "for xpt_file in xpt_files:\n",
    "    # Extract the base filename without extension\n",
    "    base_filename = os.path.splitext(xpt_file)[0]\n",
    "\n",
    "    # Read the XPT file into a pandas DataFrame\n",
    "    xpt_data = pd.read_sas(xpt_file)\n",
    "\n",
    "    # Create the output CSV filename\n",
    "    csv_filename = os.path.join(output_folder, base_filename + \".csv\")\n",
    "\n",
    "    # Save the DataFrame to a CSV file\n",
    "    xpt_data.to_csv(csv_filename, index=False)\n",
    "\n",
    "    print(f\"Converted {xpt_file} to {csv_filename}\")\n",
    "\n",
    "print(\"Conversion complete!\")\n"
   ]
  },
  {
   "cell_type": "code",
   "execution_count": null,
   "metadata": {},
   "outputs": [],
   "source": []
  }
 ],
 "metadata": {
  "kernelspec": {
   "display_name": "base",
   "language": "python",
   "name": "python3"
  },
  "language_info": {
   "codemirror_mode": {
    "name": "ipython",
    "version": 3
   },
   "file_extension": ".py",
   "mimetype": "text/x-python",
   "name": "python",
   "nbconvert_exporter": "python",
   "pygments_lexer": "ipython3",
   "version": "3.10.8"
  },
  "orig_nbformat": 4
 },
 "nbformat": 4,
 "nbformat_minor": 2
}
