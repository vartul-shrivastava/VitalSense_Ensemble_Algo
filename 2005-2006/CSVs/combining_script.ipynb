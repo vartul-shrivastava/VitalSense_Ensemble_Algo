{
 "cells": [
  {
   "cell_type": "code",
   "execution_count": 1,
   "metadata": {},
   "outputs": [
    {
     "name": "stdout",
     "output_type": "stream",
     "text": [
      "          SEQN  BMDSTATS  BMXWT  BMIWT  BMXRECUM  BMIRECUM  BMXHEAD  BMIHEAD  \\\n",
      "0      31127.0       1.0   10.2    NaN      73.6       NaN      NaN      NaN   \n",
      "1      31128.0       1.0   40.1    NaN       NaN       NaN      NaN      NaN   \n",
      "2      31129.0       1.0   74.6    NaN       NaN       NaN      NaN      NaN   \n",
      "3      31130.0       4.0    NaN    NaN       NaN       NaN      NaN      NaN   \n",
      "4      31131.0       3.0   75.2    NaN       NaN       NaN      NaN      NaN   \n",
      "...        ...       ...    ...    ...       ...       ...      ...      ...   \n",
      "10275  41337.0       NaN    NaN    NaN       NaN       NaN      NaN      NaN   \n",
      "10276  41346.0       NaN    NaN    NaN       NaN       NaN      NaN      NaN   \n",
      "10277  41372.0       NaN    NaN    NaN       NaN       NaN      NaN      NaN   \n",
      "10278  41373.0       NaN    NaN    NaN       NaN       NaN      NaN      NaN   \n",
      "10279  41412.0       NaN    NaN    NaN       NaN       NaN      NaN      NaN   \n",
      "\n",
      "       BMXHT  BMIHT  ...  PAAQUEX  LBXTC  LBDTCSI    WTSAF2YR_y  LBXTR  \\\n",
      "0        NaN    NaN  ...      NaN    NaN      NaN           NaN    NaN   \n",
      "1      151.6    NaN  ...      1.0  129.0     3.34           NaN    NaN   \n",
      "2      167.7    NaN  ...      2.0  170.0     4.40           NaN    NaN   \n",
      "3        NaN    NaN  ...      1.0    NaN      NaN  5.397605e-79    NaN   \n",
      "4      156.0    NaN  ...      1.0  105.0     2.72  6.755681e+04   86.0   \n",
      "...      ...    ...  ...      ...    ...      ...           ...    ...   \n",
      "10275    NaN    NaN  ...      1.0    NaN      NaN           NaN    NaN   \n",
      "10276    NaN    NaN  ...      1.0    NaN      NaN           NaN    NaN   \n",
      "10277    NaN    NaN  ...      1.0    NaN      NaN           NaN    NaN   \n",
      "10278    NaN    NaN  ...      1.0    NaN      NaN           NaN    NaN   \n",
      "10279    NaN    NaN  ...      1.0    NaN      NaN           NaN    NaN   \n",
      "\n",
      "       LBDTRSI  LBDLDL  LBDLDLSI  LBXAPB  LBDAPBSI  \n",
      "0          NaN     NaN       NaN     NaN       NaN  \n",
      "1          NaN     NaN       NaN     NaN       NaN  \n",
      "2          NaN     NaN       NaN     NaN       NaN  \n",
      "3          NaN     NaN       NaN     NaN       NaN  \n",
      "4        0.971    49.0     1.267    50.0       0.5  \n",
      "...        ...     ...       ...     ...       ...  \n",
      "10275      NaN     NaN       NaN     NaN       NaN  \n",
      "10276      NaN     NaN       NaN     NaN       NaN  \n",
      "10277      NaN     NaN       NaN     NaN       NaN  \n",
      "10278      NaN     NaN       NaN     NaN       NaN  \n",
      "10279      NaN     NaN       NaN     NaN       NaN  \n",
      "\n",
      "[10280 rows x 64 columns]\n"
     ]
    }
   ],
   "source": [
    "import pandas as pd\n",
    "import os\n",
    "\n",
    "def get_csv_filenames():\n",
    "    csv_filenames = [filename for filename in os.listdir() if filename.endswith('.csv')]\n",
    "    return csv_filenames\n",
    "\n",
    "# Example usage\n",
    "csv_filenames = get_csv_filenames()\n",
    "dataset_names = csv_filenames\n",
    "\n",
    "# Read the first dataset into a pandas DataFrame\n",
    "combined_data = pd.read_csv(dataset_names[0])\n",
    "\n",
    "# Iterate over the remaining datasets and merge them based on 'SEQN'\n",
    "for dataset_name in dataset_names[1:]:\n",
    "    dataset = pd.read_csv(dataset_name)\n",
    "    combined_data = combined_data.merge(dataset, on='SEQN', how='outer')\n",
    "    \n",
    "# Print the combined data\n",
    "print(combined_data)\n",
    "merged_dataset = combined_data"
   ]
  },
  {
   "cell_type": "code",
   "execution_count": 2,
   "metadata": {},
   "outputs": [],
   "source": [
    "merged_dataset.to_csv(r'OG_2005_06.csv')"
   ]
  },
  {
   "cell_type": "code",
   "execution_count": null,
   "metadata": {},
   "outputs": [],
   "source": []
  }
 ],
 "metadata": {
  "kernelspec": {
   "display_name": "base",
   "language": "python",
   "name": "python3"
  },
  "language_info": {
   "codemirror_mode": {
    "name": "ipython",
    "version": 3
   },
   "file_extension": ".py",
   "mimetype": "text/x-python",
   "name": "python",
   "nbconvert_exporter": "python",
   "pygments_lexer": "ipython3",
   "version": "3.10.8"
  },
  "orig_nbformat": 4
 },
 "nbformat": 4,
 "nbformat_minor": 2
}
